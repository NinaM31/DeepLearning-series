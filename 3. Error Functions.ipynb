{
 "cells": [
  {
   "cell_type": "markdown",
   "metadata": {},
   "source": [
    "## Error Functions or Loss Function\n",
    "After training our algorithm is will output a **model** we can think of it as a candidate solution. How can we tell that this candidate solution is good?  \n",
    "\n",
    "A loss function is used to evaluate a models performance. It distills the aspect of the model into a single value, and changes in this value signals either improvement or worsening. The smaller the value the better the model is doing.  \n",
    "There are different loss functions and they differently capture the aspects of our candidate solution. In this notebook we will look at 2 Loss functions which are used for solving classification problems and the choice of a loss function is directly related to the activation function used."
   ]
  },
  {
   "cell_type": "markdown",
   "metadata": {},
   "source": [
    "### Cross Entropy\n",
    "**Math:**\n",
    "<img src=\"https://user-images.githubusercontent.com/57009004/138594694-81403996-6c4d-4273-88e5-bdd456e1cde8.png\" width=\"500\">\n",
    "\n",
    "Cross Entropy:\n",
    "<img src=\"https://user-images.githubusercontent.com/57009004/138594649-716a0af4-93ef-4ff9-816c-4e3af5d666db.png\" width=\"500\">\n",
    "\n",
    "**Code:**"
   ]
  },
  {
   "cell_type": "code",
   "execution_count": null,
   "metadata": {},
   "outputs": [],
   "source": []
  },
  {
   "cell_type": "markdown",
   "metadata": {},
   "source": [
    "### Multi class Cross Entropy"
   ]
  },
  {
   "cell_type": "code",
   "execution_count": null,
   "metadata": {},
   "outputs": [],
   "source": []
  }
 ],
 "metadata": {
  "kernelspec": {
   "display_name": "Python 3 (ipykernel)",
   "language": "python",
   "name": "python3"
  },
  "language_info": {
   "codemirror_mode": {
    "name": "ipython",
    "version": 3
   },
   "file_extension": ".py",
   "mimetype": "text/x-python",
   "name": "python",
   "nbconvert_exporter": "python",
   "pygments_lexer": "ipython3",
   "version": "3.9.6"
  }
 },
 "nbformat": 4,
 "nbformat_minor": 4
}
